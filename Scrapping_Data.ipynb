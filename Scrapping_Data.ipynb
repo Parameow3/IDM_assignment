{
 "cells": [
  {
   "cell_type": "code",
   "execution_count": 21,
   "id": "initial_id",
   "metadata": {
    "collapsed": true,
    "ExecuteTime": {
     "end_time": "2024-01-13T05:08:44.425257900Z",
     "start_time": "2024-01-13T05:08:41.548054500Z"
    }
   },
   "outputs": [],
   "source": [
    "from selenium import webdriver\n",
    "\n",
    "browser = webdriver.Edge()\n",
    "browser.get('https://en.freshnewsasia.com/index.php/en/')"
   ]
  },
  {
   "cell_type": "code",
   "outputs": [
    {
     "name": "stdout",
     "output_type": "stream",
     "text": [
      "Israel rejects genocide charges, tells World Court it must defend itself\n",
      "Voting begins in Taiwan's critical elections watched closely by China\n",
      "U.S. carries out new strike in Yemen after Biden vows to keep pressure on\n",
      "PM Hun Manet Departs for the 54th World Economic Forum Annual Meeting in Switzerland\n",
      "Cambodia, France to Reaffirm Collective Commitment to Elevating Traditional Relations to a New Height: Foreign Ministry\n",
      "Jailed former Thai PM Thaksin gets extension to hospital stint\n",
      "S.Korea court overturns conviction against contractor on Taiwan submarines\n",
      "Samdech Techo Hun Sen Arrives Cambodia Safe after Eyes Checkup in Japan\n",
      "Cambodia's NA Welcomes European Parliament Delegations to Enhance Parliamentary Cooperation for Peace and Sustainable Development\n",
      "Vietnam's top leader misses meetings amid health concerns\n",
      "Top UN Court Opens Hearings on South Africa's Gaza Genocide Claims Against Israel\n",
      "Iranian Navy Detains US Oil Tanker in Gulf of Oman\n",
      "Washington’s Arms Supplies to Israel Violate US Laws – HRW\n",
      "PM Hun Manet to Take Part in the 54th World Economic Forum Annual Meeting in Davos, Switzerland\n",
      "US Recognizes Gaza Facing Real Food Security Issues - White House\n",
      "Papua New Guinea declares state of emergency after 16 killed in rioting\n",
      "TOP NEWS: Cambodia Reports 4 New COVID19 Cases; 6 Recovered; 0 Died\n",
      "Baltic States Join Ukraine in Seeking to Draw NATO Into Open Conflict With Russia\n",
      "Cambodian Secretary of State of Commerce Meets CEO of the Hungarian Export Promotion Agency (HEPA)\n",
      "Taiwan says it spotted more Chinese balloons over strait, a day ahead of vote\n",
      "Blinken to meet senior Chinese official ahead of Taiwan elections\n",
      "US, Britain carry out strikes against Houthis in Yemen, officials say\n",
      "US stops arms supplies to Ukraine – White House\n",
      "Blinken wraps up Mideast tour with talks in Egypt on Gaza crisis\n",
      "Samdech Techo Hun Sen Departs Japan after Eyes Checkup\n",
      "BREAKING: Kheng Yan Terminated from Kep City Governor\n",
      "French PM names gay partner foreign minister\n",
      "Former UNTAC Head Commends Samdech Techo Hun Sen's Wise Decision on Power Transition\n",
      "PM Hun Manet Shares Eight Recommendations to Promote Gender Equality (Video inside)\n",
      "PM Hun Manet Shares Eight Recommendations to Promote Gender Equality (Video inside)\n",
      "PM Hun Manet Condemns Viral Video of Eating Shoes, Urges Youth to Respect Cambodian Values and Avoid Harmful Behaviour (Video inside)\n",
      "PM Hun Manet Surprised by the Rising Enrolment of Women in IT Fields (Video inside)\n",
      "PM Calls for Implementation of Programs and Measures to Promote the Leadership of Women and Girls (Video inside)\n",
      "Samdech Thipadei Urges Interior Ministry to Deploy Female Officials to a Workplace Close to Their Homes (Video inside)\n",
      "PM Hun Manet Reminds Women Selling Online products to Uphold Value and Dignity of Cambodian Women (Video inside)\n",
      "PM Hun Manet Urges Stakeholders to Strengthen and Expand Measures to Assist Female Entrepreneurs (Video inside)\n",
      "PM Hun Manet Instructs Ministry of Women's Affairs to Further Monitor Cultural Values and Morals of Cambodian Women (Video inside)\n",
      "Japanese PM Extends Warm Welcome to Samdech Techo Hun Sen during the Latter’s Stay in Japan (Video Inside)\n",
      "Ukraine’s president in Estonia on swing through Russia’s Baltic neighbors\n",
      "Nearly 10,000 died from COVID-19 last month, fueled by holiday gathering and new variant, WHO says\n",
      "US and allies accuse Russia of using North Korean missiles against Ukraine, violating UN sanctions\n",
      "Google lays off hundreds in Assistant, hardware, engineering teams\n",
      "ASEAN special envoy meets Myanmar junta chief\n",
      "Malaysia, Singapore agree to jointly develop special economic zone\n",
      "China, Taiwan opposition warn of threat to peace from ruling party candidate\n"
     ]
    }
   ],
   "source": [
    "from selenium.webdriver.common.by import By\n",
    "import csv\n",
    "\n",
    "browser.implicitly_wait(20)  # Wait 20 seconds for browser to load\n",
    "\n",
    "# Find all the elements that match the criteria\n",
    "elements = browser.find_elements(By.CSS_SELECTOR, 'td.list-title a')\n",
    "\n",
    "# Get the headline for each element\n",
    "headlines = [element.text for element in elements]\n",
    "\n",
    "# Open the file in write mode\n",
    "file = open('fresh-news.csv', 'w', newline='')\n",
    "\n",
    "# write header\n",
    "csv.DictWriter(file, fieldnames=['TITLE']).writeheader()\n",
    "\n",
    "# Create a CSV writer object\n",
    "csv_writer = csv.writer(file)\n",
    "\n",
    "# Prints the captured headline\n",
    "# put headline to csv\n",
    "for headline in headlines:\n",
    "    print(headline)\n",
    "    # Write headlines to the file\n",
    "    csv_writer.writerow([headline])\n",
    "    \n",
    "# Close the file\n",
    "file.close()\n",
    "\n",
    "# Close your browser\n",
    "browser.quit()"
   ],
   "metadata": {
    "collapsed": false,
    "ExecuteTime": {
     "end_time": "2024-01-13T05:08:50.845886500Z",
     "start_time": "2024-01-13T05:08:44.426667Z"
    }
   },
   "id": "df497ffab344e00c",
   "execution_count": 22
  }
 ],
 "metadata": {
  "kernelspec": {
   "display_name": "Python 3",
   "language": "python",
   "name": "python3"
  },
  "language_info": {
   "codemirror_mode": {
    "name": "ipython",
    "version": 2
   },
   "file_extension": ".py",
   "mimetype": "text/x-python",
   "name": "python",
   "nbconvert_exporter": "python",
   "pygments_lexer": "ipython2",
   "version": "2.7.6"
  }
 },
 "nbformat": 4,
 "nbformat_minor": 5
}
