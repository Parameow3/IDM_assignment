{
  "cells": [
    {
      "cell_type": "markdown",
      "metadata": {
        "collapsed": false,
        "id": "bdb3244d5df61408"
      },
      "source": [
        "# <div style='text-align: center;'>\n",
        "<h1>News Classification Based on Their Headlines</h1>\n",
        "<h2>ITE-G7-E2 : Group 05</h2>\n",
        "<h2>Supervised by: Chap Chanpiseth</h2>\n",
        " January 9, 2024\n",
        "</div>"
      ],
      "id": "bdb3244d5df61408"
    },
    {
      "cell_type": "markdown",
      "metadata": {
        "collapsed": false,
        "id": "4ad6f7fc2997fbb7"
      },
      "source": [
        "## 1. Title and Objective:\n",
        "### 1.1 News Classification Using Machine Learning Techniques\n",
        "### 1.2 Objective:\n",
        "The aim of this project is to classify news based on headlines using various machine learning techniques such as Decision Tree, Multinomial Naive Bayes, and Artificial Neural Network. The objective is to accurately categorize news into predefined classes using only the information present in their headlines.\n",
        "\n",
        "## 2. Requirement Libraries:\n",
        "- pandas\n",
        "- scikit-learn\n",
        "- numpy\n",
        "- seaborn\n",
        "- jupyter\n",
        "- nltk"
      ],
      "id": "4ad6f7fc2997fbb7"
    },
    {
      "cell_type": "code",
      "execution_count": null,
      "metadata": {
        "id": "a798256e91437ba8"
      },
      "outputs": [],
      "source": [
        "#import importance libraries\n",
        "import pandas as pd\n",
        "import numpy as np\n",
        "from sklearn.feature_extraction.text import TfidfVectorizer\n",
        "from sklearn.model_selection import train_test_split\n",
        "from sklearn.tree import DecisionTreeClassifier\n",
        "from sklearn.naive_bayes import MultinomialNB\n",
        "from sklearn.neural_network import MLPClassifier\n",
        "from sklearn.metrics import accuracy_score\n",
        "from sklearn.preprocessing import LabelEncoder\n",
        "from sklearn.pipeline import Pipeline\n",
        "from sklearn.feature_extraction.text import CountVectorizer\n",
        "from sklearn.feature_extraction.text import TfidfTransformer\n",
        "from nltk import word_tokenize\n",
        "from nltk.corpus import stopwords\n",
        "from nltk.stem import WordNetLemmatizer\n",
        "from sklearn import set_config\n",
        "import nltk\n",
        "import re\n",
        "import string"
      ],
      "id": "a798256e91437ba8"
    },
    {
      "cell_type": "markdown",
      "metadata": {
        "collapsed": false,
        "id": "e45d5578c74df790"
      },
      "source": [
        "## 3. Read Dataset to dataframe"
      ],
      "id": "e45d5578c74df790"
    },
    {
      "cell_type": "code",
      "execution_count": null,
      "metadata": {
        "colab": {
          "base_uri": "https://localhost:8080/"
        },
        "id": "90360c66452b1b5b",
        "outputId": "0e8ecebd-abb5-4c4e-9c2a-86acb990b148"
      },
      "outputs": [
        {
          "name": "stdout",
          "output_type": "stream",
          "text": [
            "Mounted at /content/drive\n"
          ]
        },
        {
          "data": {
            "text/plain": [
              "Index(['TITLE', 'CATEGORY'], dtype='object')"
            ]
          },
          "execution_count": 4,
          "metadata": {},
          "output_type": "execute_result"
        }
      ],
      "source": [
        "from google.colab import drive\n",
        "drive_path = '/content/drive'\n",
        "drive.mount(drive_path)\n",
        "\n",
        "src_file = 'uci-news-aggregator.csv'\n",
        "path_to_file = '/Colab Notebooks/'\n",
        "\n",
        "src_filepath = drive_path + '/My Drive' + path_to_file + src_file\n",
        "\n",
        "# Replace src_filepath with the actual file path if you use other IDE beside colab\n",
        "dataframe = pd.read_csv(src_filepath, encoding=\"utf8\", usecols=['TITLE', 'CATEGORY'])\n",
        "dataframe.columns"
      ],
      "id": "90360c66452b1b5b"
    },
    {
      "cell_type": "code",
      "execution_count": null,
      "metadata": {
        "colab": {
          "base_uri": "https://localhost:8080/",
          "height": 423
        },
        "id": "356c5f62ed1a6d9d",
        "outputId": "0865440e-363f-47b2-d32c-258aa84b9a9e"
      },
      "outputs": [
        {
          "data": {
            "text/html": [
              "\n",
              "  <div id=\"df-bf0e0878-e1b2-44e2-a0c1-19ebbd68aa52\" class=\"colab-df-container\">\n",
              "    <div>\n",
              "<style scoped>\n",
              "    .dataframe tbody tr th:only-of-type {\n",
              "        vertical-align: middle;\n",
              "    }\n",
              "\n",
              "    .dataframe tbody tr th {\n",
              "        vertical-align: top;\n",
              "    }\n",
              "\n",
              "    .dataframe thead th {\n",
              "        text-align: right;\n",
              "    }\n",
              "</style>\n",
              "<table border=\"1\" class=\"dataframe\">\n",
              "  <thead>\n",
              "    <tr style=\"text-align: right;\">\n",
              "      <th></th>\n",
              "      <th>TITLE</th>\n",
              "      <th>CATEGORY</th>\n",
              "    </tr>\n",
              "  </thead>\n",
              "  <tbody>\n",
              "    <tr>\n",
              "      <th>0</th>\n",
              "      <td>Fed official says weak data caused by weather,...</td>\n",
              "      <td>b</td>\n",
              "    </tr>\n",
              "    <tr>\n",
              "      <th>1</th>\n",
              "      <td>Fed's Charles Plosser sees high bar for change...</td>\n",
              "      <td>b</td>\n",
              "    </tr>\n",
              "    <tr>\n",
              "      <th>2</th>\n",
              "      <td>US open: Stocks fall after Fed official hints ...</td>\n",
              "      <td>b</td>\n",
              "    </tr>\n",
              "    <tr>\n",
              "      <th>3</th>\n",
              "      <td>Fed risks falling 'behind the curve', Charles ...</td>\n",
              "      <td>b</td>\n",
              "    </tr>\n",
              "    <tr>\n",
              "      <th>4</th>\n",
              "      <td>Fed's Plosser: Nasty Weather Has Curbed Job Gr...</td>\n",
              "      <td>b</td>\n",
              "    </tr>\n",
              "    <tr>\n",
              "      <th>...</th>\n",
              "      <td>...</td>\n",
              "      <td>...</td>\n",
              "    </tr>\n",
              "    <tr>\n",
              "      <th>137660</th>\n",
              "      <td>An 'Orphan Black' primer: Everything that happ...</td>\n",
              "      <td>e</td>\n",
              "    </tr>\n",
              "    <tr>\n",
              "      <th>137661</th>\n",
              "      <td>One Actress, Many Amazing Performances: Orphan...</td>\n",
              "      <td>e</td>\n",
              "    </tr>\n",
              "    <tr>\n",
              "      <th>137662</th>\n",
              "      <td>Orphan Black's Tatiana Maslany On How The Show...</td>\n",
              "      <td>e</td>\n",
              "    </tr>\n",
              "    <tr>\n",
              "      <th>137663</th>\n",
              "      <td>BBC's 'Orphan Black' returns, engineered to ne...</td>\n",
              "      <td>e</td>\n",
              "    </tr>\n",
              "    <tr>\n",
              "      <th>137664</th>\n",
              "      <td>Orphan Black' season 2 review: Tatiana Maslany...</td>\n",
              "      <td>e</td>\n",
              "    </tr>\n",
              "  </tbody>\n",
              "</table>\n",
              "<p>137665 rows × 2 columns</p>\n",
              "</div>\n",
              "    <div class=\"colab-df-buttons\">\n",
              "\n",
              "  <div class=\"colab-df-container\">\n",
              "    <button class=\"colab-df-convert\" onclick=\"convertToInteractive('df-bf0e0878-e1b2-44e2-a0c1-19ebbd68aa52')\"\n",
              "            title=\"Convert this dataframe to an interactive table.\"\n",
              "            style=\"display:none;\">\n",
              "\n",
              "  <svg xmlns=\"http://www.w3.org/2000/svg\" height=\"24px\" viewBox=\"0 -960 960 960\">\n",
              "    <path d=\"M120-120v-720h720v720H120Zm60-500h600v-160H180v160Zm220 220h160v-160H400v160Zm0 220h160v-160H400v160ZM180-400h160v-160H180v160Zm440 0h160v-160H620v160ZM180-180h160v-160H180v160Zm440 0h160v-160H620v160Z\"/>\n",
              "  </svg>\n",
              "    </button>\n",
              "\n",
              "  <style>\n",
              "    .colab-df-container {\n",
              "      display:flex;\n",
              "      gap: 12px;\n",
              "    }\n",
              "\n",
              "    .colab-df-convert {\n",
              "      background-color: #E8F0FE;\n",
              "      border: none;\n",
              "      border-radius: 50%;\n",
              "      cursor: pointer;\n",
              "      display: none;\n",
              "      fill: #1967D2;\n",
              "      height: 32px;\n",
              "      padding: 0 0 0 0;\n",
              "      width: 32px;\n",
              "    }\n",
              "\n",
              "    .colab-df-convert:hover {\n",
              "      background-color: #E2EBFA;\n",
              "      box-shadow: 0px 1px 2px rgba(60, 64, 67, 0.3), 0px 1px 3px 1px rgba(60, 64, 67, 0.15);\n",
              "      fill: #174EA6;\n",
              "    }\n",
              "\n",
              "    .colab-df-buttons div {\n",
              "      margin-bottom: 4px;\n",
              "    }\n",
              "\n",
              "    [theme=dark] .colab-df-convert {\n",
              "      background-color: #3B4455;\n",
              "      fill: #D2E3FC;\n",
              "    }\n",
              "\n",
              "    [theme=dark] .colab-df-convert:hover {\n",
              "      background-color: #434B5C;\n",
              "      box-shadow: 0px 1px 3px 1px rgba(0, 0, 0, 0.15);\n",
              "      filter: drop-shadow(0px 1px 2px rgba(0, 0, 0, 0.3));\n",
              "      fill: #FFFFFF;\n",
              "    }\n",
              "  </style>\n",
              "\n",
              "    <script>\n",
              "      const buttonEl =\n",
              "        document.querySelector('#df-bf0e0878-e1b2-44e2-a0c1-19ebbd68aa52 button.colab-df-convert');\n",
              "      buttonEl.style.display =\n",
              "        google.colab.kernel.accessAllowed ? 'block' : 'none';\n",
              "\n",
              "      async function convertToInteractive(key) {\n",
              "        const element = document.querySelector('#df-bf0e0878-e1b2-44e2-a0c1-19ebbd68aa52');\n",
              "        const dataTable =\n",
              "          await google.colab.kernel.invokeFunction('convertToInteractive',\n",
              "                                                    [key], {});\n",
              "        if (!dataTable) return;\n",
              "\n",
              "        const docLinkHtml = 'Like what you see? Visit the ' +\n",
              "          '<a target=\"_blank\" href=https://colab.research.google.com/notebooks/data_table.ipynb>data table notebook</a>'\n",
              "          + ' to learn more about interactive tables.';\n",
              "        element.innerHTML = '';\n",
              "        dataTable['output_type'] = 'display_data';\n",
              "        await google.colab.output.renderOutput(dataTable, element);\n",
              "        const docLink = document.createElement('div');\n",
              "        docLink.innerHTML = docLinkHtml;\n",
              "        element.appendChild(docLink);\n",
              "      }\n",
              "    </script>\n",
              "  </div>\n",
              "\n",
              "\n",
              "<div id=\"df-e2204834-9ba6-4349-a525-2a22a7ad52df\">\n",
              "  <button class=\"colab-df-quickchart\" onclick=\"quickchart('df-e2204834-9ba6-4349-a525-2a22a7ad52df')\"\n",
              "            title=\"Suggest charts\"\n",
              "            style=\"display:none;\">\n",
              "\n",
              "<svg xmlns=\"http://www.w3.org/2000/svg\" height=\"24px\"viewBox=\"0 0 24 24\"\n",
              "     width=\"24px\">\n",
              "    <g>\n",
              "        <path d=\"M19 3H5c-1.1 0-2 .9-2 2v14c0 1.1.9 2 2 2h14c1.1 0 2-.9 2-2V5c0-1.1-.9-2-2-2zM9 17H7v-7h2v7zm4 0h-2V7h2v10zm4 0h-2v-4h2v4z\"/>\n",
              "    </g>\n",
              "</svg>\n",
              "  </button>\n",
              "\n",
              "<style>\n",
              "  .colab-df-quickchart {\n",
              "      --bg-color: #E8F0FE;\n",
              "      --fill-color: #1967D2;\n",
              "      --hover-bg-color: #E2EBFA;\n",
              "      --hover-fill-color: #174EA6;\n",
              "      --disabled-fill-color: #AAA;\n",
              "      --disabled-bg-color: #DDD;\n",
              "  }\n",
              "\n",
              "  [theme=dark] .colab-df-quickchart {\n",
              "      --bg-color: #3B4455;\n",
              "      --fill-color: #D2E3FC;\n",
              "      --hover-bg-color: #434B5C;\n",
              "      --hover-fill-color: #FFFFFF;\n",
              "      --disabled-bg-color: #3B4455;\n",
              "      --disabled-fill-color: #666;\n",
              "  }\n",
              "\n",
              "  .colab-df-quickchart {\n",
              "    background-color: var(--bg-color);\n",
              "    border: none;\n",
              "    border-radius: 50%;\n",
              "    cursor: pointer;\n",
              "    display: none;\n",
              "    fill: var(--fill-color);\n",
              "    height: 32px;\n",
              "    padding: 0;\n",
              "    width: 32px;\n",
              "  }\n",
              "\n",
              "  .colab-df-quickchart:hover {\n",
              "    background-color: var(--hover-bg-color);\n",
              "    box-shadow: 0 1px 2px rgba(60, 64, 67, 0.3), 0 1px 3px 1px rgba(60, 64, 67, 0.15);\n",
              "    fill: var(--button-hover-fill-color);\n",
              "  }\n",
              "\n",
              "  .colab-df-quickchart-complete:disabled,\n",
              "  .colab-df-quickchart-complete:disabled:hover {\n",
              "    background-color: var(--disabled-bg-color);\n",
              "    fill: var(--disabled-fill-color);\n",
              "    box-shadow: none;\n",
              "  }\n",
              "\n",
              "  .colab-df-spinner {\n",
              "    border: 2px solid var(--fill-color);\n",
              "    border-color: transparent;\n",
              "    border-bottom-color: var(--fill-color);\n",
              "    animation:\n",
              "      spin 1s steps(1) infinite;\n",
              "  }\n",
              "\n",
              "  @keyframes spin {\n",
              "    0% {\n",
              "      border-color: transparent;\n",
              "      border-bottom-color: var(--fill-color);\n",
              "      border-left-color: var(--fill-color);\n",
              "    }\n",
              "    20% {\n",
              "      border-color: transparent;\n",
              "      border-left-color: var(--fill-color);\n",
              "      border-top-color: var(--fill-color);\n",
              "    }\n",
              "    30% {\n",
              "      border-color: transparent;\n",
              "      border-left-color: var(--fill-color);\n",
              "      border-top-color: var(--fill-color);\n",
              "      border-right-color: var(--fill-color);\n",
              "    }\n",
              "    40% {\n",
              "      border-color: transparent;\n",
              "      border-right-color: var(--fill-color);\n",
              "      border-top-color: var(--fill-color);\n",
              "    }\n",
              "    60% {\n",
              "      border-color: transparent;\n",
              "      border-right-color: var(--fill-color);\n",
              "    }\n",
              "    80% {\n",
              "      border-color: transparent;\n",
              "      border-right-color: var(--fill-color);\n",
              "      border-bottom-color: var(--fill-color);\n",
              "    }\n",
              "    90% {\n",
              "      border-color: transparent;\n",
              "      border-bottom-color: var(--fill-color);\n",
              "    }\n",
              "  }\n",
              "</style>\n",
              "\n",
              "  <script>\n",
              "    async function quickchart(key) {\n",
              "      const quickchartButtonEl =\n",
              "        document.querySelector('#' + key + ' button');\n",
              "      quickchartButtonEl.disabled = true;  // To prevent multiple clicks.\n",
              "      quickchartButtonEl.classList.add('colab-df-spinner');\n",
              "      try {\n",
              "        const charts = await google.colab.kernel.invokeFunction(\n",
              "            'suggestCharts', [key], {});\n",
              "      } catch (error) {\n",
              "        console.error('Error during call to suggestCharts:', error);\n",
              "      }\n",
              "      quickchartButtonEl.classList.remove('colab-df-spinner');\n",
              "      quickchartButtonEl.classList.add('colab-df-quickchart-complete');\n",
              "    }\n",
              "    (() => {\n",
              "      let quickchartButtonEl =\n",
              "        document.querySelector('#df-e2204834-9ba6-4349-a525-2a22a7ad52df button');\n",
              "      quickchartButtonEl.style.display =\n",
              "        google.colab.kernel.accessAllowed ? 'block' : 'none';\n",
              "    })();\n",
              "  </script>\n",
              "</div>\n",
              "\n",
              "  <div id=\"id_53ce171b-90e0-4412-a259-1b5dbd73634b\">\n",
              "    <style>\n",
              "      .colab-df-generate {\n",
              "        background-color: #E8F0FE;\n",
              "        border: none;\n",
              "        border-radius: 50%;\n",
              "        cursor: pointer;\n",
              "        display: none;\n",
              "        fill: #1967D2;\n",
              "        height: 32px;\n",
              "        padding: 0 0 0 0;\n",
              "        width: 32px;\n",
              "      }\n",
              "\n",
              "      .colab-df-generate:hover {\n",
              "        background-color: #E2EBFA;\n",
              "        box-shadow: 0px 1px 2px rgba(60, 64, 67, 0.3), 0px 1px 3px 1px rgba(60, 64, 67, 0.15);\n",
              "        fill: #174EA6;\n",
              "      }\n",
              "\n",
              "      [theme=dark] .colab-df-generate {\n",
              "        background-color: #3B4455;\n",
              "        fill: #D2E3FC;\n",
              "      }\n",
              "\n",
              "      [theme=dark] .colab-df-generate:hover {\n",
              "        background-color: #434B5C;\n",
              "        box-shadow: 0px 1px 3px 1px rgba(0, 0, 0, 0.15);\n",
              "        filter: drop-shadow(0px 1px 2px rgba(0, 0, 0, 0.3));\n",
              "        fill: #FFFFFF;\n",
              "      }\n",
              "    </style>\n",
              "    <button class=\"colab-df-generate\" onclick=\"generateWithVariable('dataframe')\"\n",
              "            title=\"Generate code using this dataframe.\"\n",
              "            style=\"display:none;\">\n",
              "\n",
              "  <svg xmlns=\"http://www.w3.org/2000/svg\" height=\"24px\"viewBox=\"0 0 24 24\"\n",
              "       width=\"24px\">\n",
              "    <path d=\"M7,19H8.4L18.45,9,17,7.55,7,17.6ZM5,21V16.75L18.45,3.32a2,2,0,0,1,2.83,0l1.4,1.43a1.91,1.91,0,0,1,.58,1.4,1.91,1.91,0,0,1-.58,1.4L9.25,21ZM18.45,9,17,7.55Zm-12,3A5.31,5.31,0,0,0,4.9,8.1,5.31,5.31,0,0,0,1,6.5,5.31,5.31,0,0,0,4.9,4.9,5.31,5.31,0,0,0,6.5,1,5.31,5.31,0,0,0,8.1,4.9,5.31,5.31,0,0,0,12,6.5,5.46,5.46,0,0,0,6.5,12Z\"/>\n",
              "  </svg>\n",
              "    </button>\n",
              "    <script>\n",
              "      (() => {\n",
              "      const buttonEl =\n",
              "        document.querySelector('#id_53ce171b-90e0-4412-a259-1b5dbd73634b button.colab-df-generate');\n",
              "      buttonEl.style.display =\n",
              "        google.colab.kernel.accessAllowed ? 'block' : 'none';\n",
              "\n",
              "      buttonEl.onclick = () => {\n",
              "        google.colab.notebook.generateWithVariable('dataframe');\n",
              "      }\n",
              "      })();\n",
              "    </script>\n",
              "  </div>\n",
              "\n",
              "    </div>\n",
              "  </div>\n"
            ],
            "text/plain": [
              "                                                    TITLE CATEGORY\n",
              "0       Fed official says weak data caused by weather,...        b\n",
              "1       Fed's Charles Plosser sees high bar for change...        b\n",
              "2       US open: Stocks fall after Fed official hints ...        b\n",
              "3       Fed risks falling 'behind the curve', Charles ...        b\n",
              "4       Fed's Plosser: Nasty Weather Has Curbed Job Gr...        b\n",
              "...                                                   ...      ...\n",
              "137660  An 'Orphan Black' primer: Everything that happ...        e\n",
              "137661  One Actress, Many Amazing Performances: Orphan...        e\n",
              "137662  Orphan Black's Tatiana Maslany On How The Show...        e\n",
              "137663  BBC's 'Orphan Black' returns, engineered to ne...        e\n",
              "137664  Orphan Black' season 2 review: Tatiana Maslany...        e\n",
              "\n",
              "[137665 rows x 2 columns]"
            ]
          },
          "execution_count": 5,
          "metadata": {},
          "output_type": "execute_result"
        }
      ],
      "source": [
        "# Display the dataset\n",
        "dataframe"
      ],
      "id": "356c5f62ed1a6d9d"
    },
    {
      "cell_type": "markdown",
      "metadata": {
        "collapsed": false,
        "id": "fbbad78df292e3b2"
      },
      "source": [
        "## 4. Data PreProcessing"
      ],
      "id": "fbbad78df292e3b2"
    },
    {
      "cell_type": "code",
      "execution_count": null,
      "metadata": {
        "colab": {
          "base_uri": "https://localhost:8080/"
        },
        "id": "c4e09d86f36b1150",
        "outputId": "78afcc90-b7b9-4909-a1fc-43d14d09072c"
      },
      "outputs": [
        {
          "name": "stdout",
          "output_type": "stream",
          "text": [
            "NO missing data\n"
          ]
        }
      ],
      "source": [
        "# Preprocessing\n",
        "#check for missing data\n",
        "if(any(dataframe.isnull().any())):\n",
        "    print('Missing Data\\n')\n",
        "    print(dataframe.isnull().sum())\n",
        "else:\n",
        "    print('NO missing data')"
      ],
      "id": "c4e09d86f36b1150"
    },
    {
      "cell_type": "code",
      "execution_count": null,
      "metadata": {
        "colab": {
          "base_uri": "https://localhost:8080/"
        },
        "id": "184f1e00b4ecf60",
        "outputId": "7bed47b4-4a8b-4205-a1aa-23b4eae8cb14"
      },
      "outputs": [
        {
          "name": "stdout",
          "output_type": "stream",
          "text": [
            "Duplicate rows found\n",
            "Number of duplicate rows=  4866\n",
            "Dropping duplicates\n",
            "\n",
            "(132799, 2)\n"
          ]
        }
      ],
      "source": [
        "# check for duplicate\n",
        "if(any(dataframe.duplicated())==True):\n",
        "    print('Duplicate rows found')\n",
        "    print('Number of duplicate rows= ', dataframe[dataframe.duplicated()].shape[0])\n",
        "    dataframe.drop_duplicates(inplace=True,keep='first')\n",
        "    dataframe.reset_index(inplace=True,drop=True)\n",
        "    print('Dropping duplicates\\n')\n",
        "    print(dataframe.shape)\n",
        "else:\n",
        "    print('NO duplicate data')"
      ],
      "id": "184f1e00b4ecf60"
    },
    {
      "cell_type": "code",
      "execution_count": null,
      "metadata": {
        "colab": {
          "base_uri": "https://localhost:8080/"
        },
        "id": "1909c7bd7d3f45f4",
        "outputId": "ac6def6d-b39a-4fa0-ae8e-8fbb81ce39f5"
      },
      "outputs": [
        {
          "name": "stderr",
          "output_type": "stream",
          "text": [
            "[nltk_data] Downloading package stopwords to /root/nltk_data...\n",
            "[nltk_data]   Unzipping corpora/stopwords.zip.\n",
            "[nltk_data] Downloading package punkt to /root/nltk_data...\n",
            "[nltk_data]   Unzipping tokenizers/punkt.zip.\n",
            "[nltk_data] Downloading package wordnet to /root/nltk_data...\n"
          ]
        },
        {
          "data": {
            "text/plain": [
              "True"
            ]
          },
          "execution_count": 8,
          "metadata": {},
          "output_type": "execute_result"
        }
      ],
      "source": [
        "# download the library to for the nltk functions to use in the cleaning process\n",
        "nltk.download('stopwords')\n",
        "nltk.download('punkt')\n",
        "nltk.download('wordnet')"
      ],
      "id": "1909c7bd7d3f45f4"
    },
    {
      "cell_type": "code",
      "execution_count": null,
      "metadata": {
        "colab": {
          "base_uri": "https://localhost:8080/"
        },
        "id": "42d0fd2454e09bb9",
        "outputId": "0d3e8a18-05a4-4957-e928-7b8f65848968"
      },
      "outputs": [
        {
          "name": "stderr",
          "output_type": "stream",
          "text": [
            "/usr/local/lib/python3.10/dist-packages/sklearn/feature_extraction/text.py:528: UserWarning: The parameter 'token_pattern' will not be used since 'tokenizer' is not None'\n",
            "  warnings.warn(\n"
          ]
        }
      ],
      "source": [
        "set_config(transform_output=\"pandas\")\n",
        "\n",
        "wnl = WordNetLemmatizer()\n",
        "\n",
        "\n",
        "# Function for cleaning and tokenize the headline\n",
        "def tokenize(doc):\n",
        "    document = doc.lower()  # convert the content of the headline to lowercase\n",
        "    document = re.sub(r'\\d+', '',\n",
        "                      document)  # remove all of the digits inside of the content (using regular expressions)\n",
        "    document = document.translate(str.maketrans('', '', string.punctuation))  # remove the puntuations (, . ! # ...)\n",
        "    document = document.strip()  # remove the spaces at the start and end of the headline\n",
        "    return [wnl.lemmatize(token) for token in word_tokenize(document) if token not in stopwords.words('english')]\n",
        "    # tokenize the headlines\n",
        "    # and then filter only the words that are not in the english stopwords (words that are commonly used and give no benifits to the classifier)\n",
        "    # and finally lemmatize all of the tokens\n",
        "\n",
        "\n",
        "# The preprocess pipeline\n",
        "preprocessor = Pipeline([\n",
        "    ('vect', CountVectorizer(tokenizer=tokenize)),  # passing custom tokenizer method for the CountVectorizer to use\n",
        "    ('tfidf', TfidfTransformer()),\n",
        "])\n",
        "\n",
        "tfidf_dataset = preprocessor.fit_transform(dataframe[\"TITLE\"].values)  # process the training dataset"
      ],
      "id": "42d0fd2454e09bb9"
    },
    {
      "cell_type": "markdown",
      "metadata": {
        "collapsed": false,
        "id": "9a5c574d78dd6799"
      },
      "source": [
        "## 5. Model Implementation and Evaluation\n",
        "### 5.1. Label Encoder"
      ],
      "id": "9a5c574d78dd6799"
    },
    {
      "cell_type": "code",
      "execution_count": null,
      "metadata": {
        "colab": {
          "base_uri": "https://localhost:8080/"
        },
        "id": "f88e3b7ced429b3c",
        "outputId": "14c9f395-2832-403f-8de0-9e18a349f5eb"
      },
      "outputs": [
        {
          "data": {
            "text/plain": [
              "array([0, 0, 0, ..., 1, 1, 1])"
            ]
          },
          "execution_count": 10,
          "metadata": {},
          "output_type": "execute_result"
        }
      ],
      "source": [
        "le = LabelEncoder()\n",
        "class_label = le.fit_transform(dataframe[\"CATEGORY\"])\n",
        "# list(le.classes_)\n",
        "class_label"
      ],
      "id": "f88e3b7ced429b3c"
    },
    {
      "cell_type": "code",
      "execution_count": null,
      "metadata": {
        "id": "de94bb65cf24b5de"
      },
      "outputs": [],
      "source": [
        "X_train, X_test, y_train, y_test = train_test_split(\n",
        "    tfidf_dataset.toarray(),\n",
        "    class_label,\n",
        "    test_size = 0.3,\n",
        "    random_state=42\n",
        ")"
      ],
      "id": "de94bb65cf24b5de"
    },
    {
      "cell_type": "markdown",
      "metadata": {
        "collapsed": false,
        "id": "a89e7954664d30db"
      },
      "source": [
        "### 5.2 Decision Tree Classifier"
      ],
      "id": "a89e7954664d30db"
    },
    {
      "cell_type": "code",
      "execution_count": null,
      "metadata": {
        "colab": {
          "background_save": true
        },
        "id": "a9d509fa2573c884",
        "outputId": "75e6bf45-1bd7-43e5-d514-d67679e5e7fb"
      },
      "outputs": [
        {
          "name": "stdout",
          "output_type": "stream",
          "text": [
            "accuracy score of Decision Tree:\n",
            "0.9151606425702812\n"
          ]
        }
      ],
      "source": [
        "dt_classifier = DecisionTreeClassifier(criterion=\"gini\", splitter=\"best\")\n",
        "dt_classifier.fit(X_train, y_train)\n",
        "dt_predictions = dt_classifier.predict(X_test)\n",
        "\n",
        "# Evaluation\n",
        "print(\"accuracy score of Decision Tree:\")\n",
        "print(accuracy_score(y_test, dt_predictions))"
      ],
      "id": "a9d509fa2573c884"
    },
    {
      "cell_type": "markdown",
      "metadata": {
        "collapsed": false,
        "id": "8b721314c07a8a0c"
      },
      "source": [
        "### 5.3 Multinomial Naive Bayes Classifier"
      ],
      "id": "8b721314c07a8a0c"
    },
    {
      "cell_type": "code",
      "execution_count": null,
      "metadata": {
        "colab": {
          "background_save": true
        },
        "id": "84c521e7b7ca4db3",
        "outputId": "a98abd40-c965-48a1-9375-88bfabdd66f6"
      },
      "outputs": [
        {
          "name": "stdout",
          "output_type": "stream",
          "text": [
            "accuracy score of Multinomial Naive Bayes:\n",
            "0.9354166666666667\n"
          ]
        }
      ],
      "source": [
        "nb_classifier = MultinomialNB()\n",
        "nb_classifier.fit(X_train, y_train)\n",
        "nb_predictions = nb_classifier.predict(X_test)\n",
        "\n",
        "# Evaluation\n",
        "print(\"accuracy score of Multinomial Naive Bayes:\")\n",
        "print(accuracy_score(y_test, nb_predictions))"
      ],
      "id": "84c521e7b7ca4db3"
    },
    {
      "cell_type": "markdown",
      "metadata": {
        "collapsed": false,
        "id": "f5bc071bf196b41b"
      },
      "source": [
        "### 5.4 Artificial Neural Network"
      ],
      "id": "f5bc071bf196b41b"
    },
    {
      "cell_type": "code",
      "execution_count": null,
      "metadata": {
        "id": "2eba2a1476e24c4a",
        "colab": {
          "base_uri": "https://localhost:8080/"
        },
        "outputId": "16a186cf-d734-4221-f3c8-d3fad5baa3de"
      },
      "outputs": [
        {
          "output_type": "stream",
          "name": "stdout",
          "text": [
            "accuracy score of Artificial Neural Network:\n",
            "0.9492720883534137\n"
          ]
        }
      ],
      "source": [
        "nn_classifier = MLPClassifier()\n",
        "nn_classifier.fit(X_train, y_train)\n",
        "nn_predictions = nn_classifier.predict(X_test)\n",
        "\n",
        "# Evaluation\n",
        "print(\"accuracy score of Artificial Neural Network:\")\n",
        "print(accuracy_score(y_test, nn_predictions))"
      ],
      "id": "2eba2a1476e24c4a"
    },
    {
      "cell_type": "markdown",
      "metadata": {
        "collapsed": false,
        "id": "9c75918125cca230"
      },
      "source": [
        "## 7. Conclusion\n",
        "In this project, we explored three machine learning models - Decision Tree, Multinomial Naive Bayes, and Artificial Neural Network - for news headline classification. Each model brought unique strengths to the task:\n",
        "\n",
        "- The Decision Tree likely offered a clear, interpretable model but might have faced limitations in handling complex text data.\n",
        "- The Multinomial Naive Bayes, often effective for text classification, probably performed well due to its simplicity and efficiency.\n",
        "- The Artificial Neural Network, with its advanced pattern recognition capabilities, was expected to provide the highest accuracy.\n",
        "\n",
        "While each model has its advantages, the choice often depends on the specific requirements and nature of the dataset. Future work could focus on further tuning these models, exploring advanced techniques like deep learning, and experimenting with different feature extraction methods for improved accuracy."
      ],
      "id": "9c75918125cca230"
    }
  ],
  "metadata": {
    "colab": {
      "machine_shape": "hm",
      "provenance": []
    },
    "kernelspec": {
      "display_name": "Python 3",
      "name": "python3"
    },
    "language_info": {
      "codemirror_mode": {
        "name": "ipython",
        "version": 2
      },
      "file_extension": ".py",
      "mimetype": "text/x-python",
      "name": "python",
      "nbconvert_exporter": "python",
      "pygments_lexer": "ipython2",
      "version": "2.7.6"
    }
  },
  "nbformat": 4,
  "nbformat_minor": 5
}